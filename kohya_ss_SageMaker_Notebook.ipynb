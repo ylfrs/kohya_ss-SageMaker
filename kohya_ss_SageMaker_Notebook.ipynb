{
 "cells": [
  {
   "cell_type": "code",
   "execution_count": null,
   "id": "ab02c781-46ea-4f07-8c4b-f329069d903b",
   "metadata": {},
   "outputs": [],
   "source": [
    "#clean remove all env, cache and file\n",
    "!rm -r /home/studio-lab-user/.cache\n",
    "!rm -r /home/studio-lab-user/.conda\n",
    "!conda remove -n \"env_name\" --all\n",
    "!rm -rf /home/studio-lab-user/*"
   ]
  },
  {
   "cell_type": "code",
   "execution_count": null,
   "id": "b5edd903-cc4f-42d5-831a-fe32d2f5451e",
   "metadata": {},
   "outputs": [],
   "source": [
    "!mkdir /home/studio-lab-user/content"
   ]
  },
  {
   "cell_type": "code",
   "execution_count": null,
   "id": "56a51e27-73d7-4114-afc7-d023b6ce16f5",
   "metadata": {},
   "outputs": [],
   "source": [
    "%cd ~/content"
   ]
  },
  {
   "cell_type": "code",
   "execution_count": null,
   "id": "77d1ac58-0020-4a4b-9167-de54c1109a7e",
   "metadata": {
    "tags": []
   },
   "outputs": [],
   "source": [
    "#@title Train with Kohya's Stable Diffusion Trainers\n",
    "!pip install dadaptation==3.1 diffusers[torch]==0.17.1 easygui==0.98.3 einops==0.6.0 fairscale==0.4.13 ftfy==6.1.1 gradio==3.36.1 huggingface-hub==0.14.1 \n",
    "!pip install lion-pytorch==0.0.6 lycoris_lora==1.8.0.dev6 open-clip-torch==2.20.0 prodigyopt==1.0 pytorch-lightning==1.9.0 safetensors==0.3.1 timm==0.6.12 \n",
    "!pip install tk==0.1.0 transformers==4.30.2 voluptuous==0.13.1 wandb==0.15.0 xformers==0.0.20 omegaconf rich \n",
    "\n",
    "%cd /content\n",
    "!git clone -b 0.41.0 https://github.com/TimDettmers/bitsandbytes\n",
    "%cd /home/studio-lab-user/content/bitsandbytes\n",
    "!CUDA_VERSION=118 make cuda11x\n",
    "!python setup.py install\n",
    "\n",
    "%cd /home/studio-lab-user/content\n",
    "!git clone -b v1.0 https://github.com/camenduru/kohya_ss"
   ]
  },
  {
   "cell_type": "code",
   "execution_count": null,
   "id": "c700a36f-2e59-4950-adf3-48cd1a3dab3e",
   "metadata": {
    "tags": []
   },
   "outputs": [],
   "source": [
    "conda install -c conda-forge pyngrok"
   ]
  },
  {
   "cell_type": "code",
   "execution_count": null,
   "id": "8ae071bf-a586-4383-b083-e9e35278babc",
   "metadata": {},
   "outputs": [],
   "source": [
    "!ngrok config add-authtoken #Paste Authtoken here"
   ]
  },
  {
   "cell_type": "code",
   "execution_count": null,
   "id": "f0e1507b-202b-4e88-bcdb-7ec64e7e4052",
   "metadata": {
    "tags": []
   },
   "outputs": [],
   "source": [
    "%cd /home/studio-lab-user/content/kohya_ss\n",
    "\n",
    "!python kohya_gui.py --listen 127.0.0.1 --server_port 7860 --inbrowser --share --headless "
   ]
  },
  {
   "cell_type": "code",
   "execution_count": null,
   "id": "392a8a30-cd49-49cf-bd99-1afb5304642b",
   "metadata": {
    "tags": []
   },
   "outputs": [],
   "source": [
    "!ngrok http 7860\n"
   ]
  },
  {
   "cell_type": "code",
   "execution_count": null,
   "id": "f24ea469-638d-41f6-8eda-6f99b9335035",
   "metadata": {
    "tags": []
   },
   "outputs": [],
   "source": [
    "#Tried to ngrok.py from https://github.com/dreamscapeai/stable-diffusion-webui, didn't work. \n",
    "!python ngrok.py\n"
   ]
  },
  {
   "cell_type": "markdown",
   "id": "e42ffa66-0645-431a-a8bd-da6f01159ddc",
   "metadata": {},
   "source": [
    "# Ngrok Tests"
   ]
  },
  {
   "cell_type": "code",
   "execution_count": null,
   "id": "47e2cf80-28ab-4bbf-8df4-18559ecc5b24",
   "metadata": {
    "scrolled": true,
    "tags": []
   },
   "outputs": [],
   "source": [
    "!ngrok config check\n"
   ]
  },
  {
   "cell_type": "code",
   "execution_count": null,
   "id": "da0a0644-1773-4fd8-91fb-8973fb0bafc9",
   "metadata": {
    "scrolled": true,
    "tags": []
   },
   "outputs": [],
   "source": [
    "!ngrok -v"
   ]
  },
  {
   "cell_type": "markdown",
   "id": "0a4e8d6c-8060-486f-a37f-b1c1a42433fd",
   "metadata": {},
   "source": []
  },
  {
   "cell_type": "code",
   "execution_count": null,
   "id": "0697dba4-bffd-4459-9749-baca59fe23c8",
   "metadata": {
    "tags": []
   },
   "outputs": [],
   "source": []
  },
  {
   "cell_type": "code",
   "execution_count": null,
   "id": "439692fe-f99d-4703-aa6d-27a8bcc8a775",
   "metadata": {
    "tags": []
   },
   "outputs": [],
   "source": [
    "#Check the storage available (if storage full, can cause problem)\n",
    "!df -h | grep -E 'Avail|home'"
   ]
  },
  {
   "cell_type": "code",
   "execution_count": null,
   "id": "5ad6a08b-34a4-4a73-b618-38715a895bd2",
   "metadata": {
    "tags": []
   },
   "outputs": [],
   "source": [
    "#Check the storage available (if storage full, can cause problem)\n",
    "!df -h | grep -E 'Avail|home'"
   ]
  },
  {
   "cell_type": "code",
   "execution_count": null,
   "id": "aaea3473-1ac6-40d8-98c2-a29386ca147e",
   "metadata": {
    "tags": []
   },
   "outputs": [],
   "source": [
    "#List all folders and sizes\n",
    "!du -h --max-depth=1 /home/studio-lab-user"
   ]
  },
  {
   "cell_type": "markdown",
   "id": "baaf8967-78f3-4b63-9427-313bffa67a93",
   "metadata": {},
   "source": []
  }
 ],
 "metadata": {
  "kernelspec": {
   "display_name": "default:Python",
   "language": "python",
   "name": "conda-env-default-py"
  },
  "language_info": {
   "codemirror_mode": {
    "name": "ipython",
    "version": 3
   },
   "file_extension": ".py",
   "mimetype": "text/x-python",
   "name": "python",
   "nbconvert_exporter": "python",
   "pygments_lexer": "ipython3",
   "version": "3.9.16"
  }
 },
 "nbformat": 4,
 "nbformat_minor": 5
}
